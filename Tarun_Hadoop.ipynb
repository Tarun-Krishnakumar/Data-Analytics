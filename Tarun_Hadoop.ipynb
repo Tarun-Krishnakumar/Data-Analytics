{
  "nbformat": 4,
  "nbformat_minor": 0,
  "metadata": {
    "colab": {
      "name": "Tarun_Hadoop.ipynb",
      "provenance": []
    },
    "kernelspec": {
      "name": "python3",
      "display_name": "Python 3"
    },
    "language_info": {
      "name": "python"
    }
  },
  "cells": [
    {
      "cell_type": "code",
      "execution_count": 1,
      "metadata": {
        "colab": {
          "base_uri": "https://localhost:8080/"
        },
        "id": "_Is4c8v0cWpP",
        "outputId": "1ff39551-f345-44d7-fbc3-9908bfc86604"
      },
      "outputs": [
        {
          "output_type": "stream",
          "name": "stdout",
          "text": [
            "Looking in indexes: https://pypi.org/simple, https://us-python.pkg.dev/colab-wheels/public/simple/\n",
            "Collecting pyspark\n",
            "  Downloading pyspark-3.2.1.tar.gz (281.4 MB)\n",
            "\u001b[K     |████████████████████████████████| 281.4 MB 34 kB/s \n",
            "\u001b[?25hCollecting py4j==0.10.9.3\n",
            "  Downloading py4j-0.10.9.3-py2.py3-none-any.whl (198 kB)\n",
            "\u001b[K     |████████████████████████████████| 198 kB 50.8 MB/s \n",
            "\u001b[?25hBuilding wheels for collected packages: pyspark\n",
            "  Building wheel for pyspark (setup.py) ... \u001b[?25l\u001b[?25hdone\n",
            "  Created wheel for pyspark: filename=pyspark-3.2.1-py2.py3-none-any.whl size=281853642 sha256=b987887cd81c72fbce868eb210a8a687eb1ded378fe2cf7a54b56991fb7300b7\n",
            "  Stored in directory: /root/.cache/pip/wheels/9f/f5/07/7cd8017084dce4e93e84e92efd1e1d5334db05f2e83bcef74f\n",
            "Successfully built pyspark\n",
            "Installing collected packages: py4j, pyspark\n",
            "Successfully installed py4j-0.10.9.3 pyspark-3.2.1\n"
          ]
        }
      ],
      "source": [
        "pip install pyspark"
      ]
    },
    {
      "cell_type": "code",
      "source": [
        "## Ignore warning"
      ],
      "metadata": {
        "id": "GLCYSsnMdHFS"
      },
      "execution_count": 3,
      "outputs": []
    },
    {
      "cell_type": "code",
      "source": [
        "from warnings import filterwarnings\n",
        "filterwarnings('ignore')"
      ],
      "metadata": {
        "id": "Dwm9kMjyfOKQ"
      },
      "execution_count": 4,
      "outputs": []
    },
    {
      "cell_type": "code",
      "source": [
        "# import libraries\n",
        "import pyspark\n",
        "from pyspark.sql import SparkSession\n",
        "from pyspark.sql import Row\n",
        "from pyspark.ml.stat import Correlation\n",
        "from pyspark.ml.feature import VectorAssembler\n",
        "from pyspark.sql.functions import col\n",
        "from pyspark.sql.functions import *\n",
        "from pyspark.ml.feature import VectorAssembler\n",
        "from pyspark.ml.regression import LinearRegression\n",
        "from pyspark.ml.evaluation import RegressionEvaluator\n",
        "appName= \"hive_pyspark\"\n",
        "master= \"local\""
      ],
      "metadata": {
        "id": "gioWGPC4fO3w"
      },
      "execution_count": 5,
      "outputs": []
    },
    {
      "cell_type": "code",
      "source": [
        "spark = SparkSession.builder \\\n",
        "\t.master(master).appName(appName).enableHiveSupport().getOrCreate()"
      ],
      "metadata": {
        "id": "3Pel5hW5fYmK"
      },
      "execution_count": 6,
      "outputs": []
    },
    {
      "cell_type": "code",
      "source": [
        "## Question 1"
      ],
      "metadata": {
        "id": "22FnVCoQfdmB"
      },
      "execution_count": 7,
      "outputs": []
    },
    {
      "cell_type": "code",
      "source": [
        "data=spark.read.csv(\"boston.csv\",header=True)\n",
        "data.show(10)\n",
        "data.write.saveAsTable(\"boston\")"
      ],
      "metadata": {
        "colab": {
          "base_uri": "https://localhost:8080/"
        },
        "id": "yQ51yrWHfu-i",
        "outputId": "04fd8aff-4267-46c2-e17c-811208582068"
      },
      "execution_count": 8,
      "outputs": [
        {
          "output_type": "stream",
          "name": "stdout",
          "text": [
            "+-----------+----+-----------+----+-----------+-----------+-----------+-----------+---+---+-----------+-----------+-----------+-----------+\n",
            "|       CRIM|  ZN|      INDUS|CHAS|        NOX|         RM|        AGE|        DIS|RAD|TAX|         PT|          B|      LSTAT|         MV|\n",
            "+-----------+----+-----------+----+-----------+-----------+-----------+-----------+---+---+-----------+-----------+-----------+-----------+\n",
            "|    0.00632|  18|2.309999943|   0|0.537999988|6.574999809|65.19999695|4.090000153|  1|296|15.30000019|396.8999939|4.980000019|         24|\n",
            "|0.027310001|   0|7.070000172|   0|0.469000012|6.421000004|78.90000153|4.967100143|  2|242|17.79999924|396.8999939|9.140000343|21.60000038|\n",
            "|    0.02729|   0|7.070000172|   0|0.469000012|7.184999943|61.09999847|4.967100143|  2|242|17.79999924|392.8299866| 4.03000021|34.70000076|\n",
            "|0.032370001|   0|2.180000067|   0|0.458000004|6.998000145|45.79999924|6.062200069|  3|222|18.70000076|394.6300049|2.940000057|33.40000153|\n",
            "|0.069049999|   0|2.180000067|   0|0.458000004|7.146999836|54.20000076|6.062200069|  3|222|18.70000076|396.8999939|5.329999924|36.20000076|\n",
            "|0.029850001|   0|2.180000067|   0|0.458000004|6.429999828|58.70000076|6.062200069|  3|222|18.70000076|394.1199951|5.210000038|28.70000076|\n",
            "|0.088289998|12.5|7.869999886|   0|0.523999989|6.012000084|66.59999847|5.560500145|  5|311|15.19999981|395.6000061|12.43000031|22.89999962|\n",
            "|0.144549996|12.5|7.869999886|   0|0.523999989|6.171999931|96.09999847|5.950500011|  5|311|15.19999981|396.8999939|19.14999962|27.10000038|\n",
            "|0.211239994|12.5|7.869999886|   0|0.523999989|5.631000042|        100|6.082099915|  5|311|15.19999981|386.6300049|29.93000031|       16.5|\n",
            "|0.170039997|12.5|7.869999886|   0|0.523999989|6.004000187|85.90000153|6.592100143|  5|311|15.19999981|386.7099915|17.10000038|18.89999962|\n",
            "+-----------+----+-----------+----+-----------+-----------+-----------+-----------+---+---+-----------+-----------+-----------+-----------+\n",
            "only showing top 10 rows\n",
            "\n"
          ]
        }
      ]
    },
    {
      "cell_type": "code",
      "source": [
        "# Question 2"
      ],
      "metadata": {
        "id": "az54yHwVf5Wx"
      },
      "execution_count": 9,
      "outputs": []
    },
    {
      "cell_type": "code",
      "source": [
        "df=spark.sql(\"select * from boston\")\n",
        "df.show()"
      ],
      "metadata": {
        "colab": {
          "base_uri": "https://localhost:8080/"
        },
        "id": "_dVh9pMIf_rv",
        "outputId": "446b41b9-1f34-4e94-daea-0c5aef917e6a"
      },
      "execution_count": 10,
      "outputs": [
        {
          "output_type": "stream",
          "name": "stdout",
          "text": [
            "+-----------+----+-----------+----+-----------+-----------+-----------+-----------+---+---+-----------+-----------+-----------+-----------+\n",
            "|       CRIM|  ZN|      INDUS|CHAS|        NOX|         RM|        AGE|        DIS|RAD|TAX|         PT|          B|      LSTAT|         MV|\n",
            "+-----------+----+-----------+----+-----------+-----------+-----------+-----------+---+---+-----------+-----------+-----------+-----------+\n",
            "|    0.00632|  18|2.309999943|   0|0.537999988|6.574999809|65.19999695|4.090000153|  1|296|15.30000019|396.8999939|4.980000019|         24|\n",
            "|0.027310001|   0|7.070000172|   0|0.469000012|6.421000004|78.90000153|4.967100143|  2|242|17.79999924|396.8999939|9.140000343|21.60000038|\n",
            "|    0.02729|   0|7.070000172|   0|0.469000012|7.184999943|61.09999847|4.967100143|  2|242|17.79999924|392.8299866| 4.03000021|34.70000076|\n",
            "|0.032370001|   0|2.180000067|   0|0.458000004|6.998000145|45.79999924|6.062200069|  3|222|18.70000076|394.6300049|2.940000057|33.40000153|\n",
            "|0.069049999|   0|2.180000067|   0|0.458000004|7.146999836|54.20000076|6.062200069|  3|222|18.70000076|396.8999939|5.329999924|36.20000076|\n",
            "|0.029850001|   0|2.180000067|   0|0.458000004|6.429999828|58.70000076|6.062200069|  3|222|18.70000076|394.1199951|5.210000038|28.70000076|\n",
            "|0.088289998|12.5|7.869999886|   0|0.523999989|6.012000084|66.59999847|5.560500145|  5|311|15.19999981|395.6000061|12.43000031|22.89999962|\n",
            "|0.144549996|12.5|7.869999886|   0|0.523999989|6.171999931|96.09999847|5.950500011|  5|311|15.19999981|396.8999939|19.14999962|27.10000038|\n",
            "|0.211239994|12.5|7.869999886|   0|0.523999989|5.631000042|        100|6.082099915|  5|311|15.19999981|386.6300049|29.93000031|       16.5|\n",
            "|0.170039997|12.5|7.869999886|   0|0.523999989|6.004000187|85.90000153|6.592100143|  5|311|15.19999981|386.7099915|17.10000038|18.89999962|\n",
            "|0.224889994|12.5|7.869999886|   0|0.523999989|6.376999855|94.30000305|6.346700191|  5|311|15.19999981| 392.519989|20.45000076|         15|\n",
            "|0.117470004|12.5|7.869999886|   0|0.523999989|6.008999825|82.90000153|6.226699829|  5|311|15.19999981|396.8999939|13.27000046|18.89999962|\n",
            "|0.093780003|12.5|7.869999886|   0|0.523999989|5.888999939|         39|5.450900078|  5|311|15.19999981|      390.5|15.71000004|21.70000076|\n",
            "|0.629760027|   0|8.140000343|   0|0.537999988|5.948999882|61.79999924|4.707499981|  4|307|         21|396.8999939|8.260000229|20.39999962|\n",
            "|0.637960017|   0|8.140000343|   0|0.537999988|6.096000195|       84.5|4.461900234|  4|307|         21| 380.019989|10.26000023|18.20000076|\n",
            "|0.627390027|   0|8.140000343|   0|0.537999988|5.834000111|       56.5|4.498600006|  4|307|         21|395.6199951|8.470000267|19.89999962|\n",
            "|1.053930044|   0|8.140000343|   0|0.537999988|5.934999943|29.29999924|4.498600006|  4|307|         21|386.8500061|6.579999924|23.10000038|\n",
            "|0.784200013|   0|8.140000343|   0|0.537999988|5.989999771|81.69999695|4.257900238|  4|307|         21|     386.75|14.67000008|       17.5|\n",
            "|0.802709997|   0|8.140000343|   0|0.537999988|5.455999851|36.59999847|3.796499968|  4|307|         21|288.9899902|11.68999958|20.20000076|\n",
            "|0.725799978|   0|8.140000343|   0|0.537999988|5.727000237|       69.5|3.796499968|  4|307|         21|390.9500122|11.27999973|18.20000076|\n",
            "+-----------+----+-----------+----+-----------+-----------+-----------+-----------+---+---+-----------+-----------+-----------+-----------+\n",
            "only showing top 20 rows\n",
            "\n"
          ]
        }
      ]
    },
    {
      "cell_type": "code",
      "source": [
        "# Question 3"
      ],
      "metadata": {
        "id": "_MgweSKDgJPo"
      },
      "execution_count": 11,
      "outputs": []
    },
    {
      "cell_type": "code",
      "source": [
        "for col in df.dtypes:\n",
        "    print(col[0]+\" , \"+col[1])"
      ],
      "metadata": {
        "colab": {
          "base_uri": "https://localhost:8080/"
        },
        "id": "D-NhAP_VgVDj",
        "outputId": "c2cfc7c0-96b9-47fd-d215-b35091b0c513"
      },
      "execution_count": 13,
      "outputs": [
        {
          "output_type": "stream",
          "name": "stdout",
          "text": [
            "CRIM , string\n",
            "ZN , string\n",
            "INDUS , string\n",
            "CHAS , string\n",
            "NOX , string\n",
            "RM , string\n",
            "AGE , string\n",
            "DIS , string\n",
            "RAD , string\n",
            "TAX , string\n",
            "PT , string\n",
            "B , string\n",
            "LSTAT , string\n",
            "MV , string\n"
          ]
        }
      ]
    },
    {
      "cell_type": "code",
      "source": [
        "from pyspark.sql.functions import col\n",
        "df = df.select([col(column).cast('double') for column in df.columns])"
      ],
      "metadata": {
        "id": "5kPRv0-ygZ2g"
      },
      "execution_count": 14,
      "outputs": []
    },
    {
      "cell_type": "code",
      "source": [
        "for col in df.dtypes:\n",
        "    print(col[0]+\" , \"+col[1])"
      ],
      "metadata": {
        "colab": {
          "base_uri": "https://localhost:8080/"
        },
        "id": "fUdI43qRhD5P",
        "outputId": "ab971008-8bcd-4b81-dafd-9477a73c01b7"
      },
      "execution_count": 15,
      "outputs": [
        {
          "output_type": "stream",
          "name": "stdout",
          "text": [
            "CRIM , double\n",
            "ZN , double\n",
            "INDUS , double\n",
            "CHAS , double\n",
            "NOX , double\n",
            "RM , double\n",
            "AGE , double\n",
            "DIS , double\n",
            "RAD , double\n",
            "TAX , double\n",
            "PT , double\n",
            "B , double\n",
            "LSTAT , double\n",
            "MV , double\n"
          ]
        }
      ]
    },
    {
      "cell_type": "code",
      "source": [
        "vec = \"cf\"\n",
        "assembler = VectorAssembler(inputCols=df.columns, outputCol=vec)\n",
        "df_vec = assembler.transform(df).select(vec)"
      ],
      "metadata": {
        "id": "RHvWbM7rhMH-"
      },
      "execution_count": 16,
      "outputs": []
    },
    {
      "cell_type": "code",
      "source": [
        "matrix = Correlation.corr(df_vec, vec)"
      ],
      "metadata": {
        "id": "tLPQ_K2Phdox"
      },
      "execution_count": 17,
      "outputs": []
    },
    {
      "cell_type": "code",
      "source": [
        "matrix.collect()[0][\"pearson({})\".format(vec)].values"
      ],
      "metadata": {
        "colab": {
          "base_uri": "https://localhost:8080/"
        },
        "id": "OYgjjq1VhlO0",
        "outputId": "00c24c8a-14c3-418e-fa4c-39f193011838"
      },
      "execution_count": 18,
      "outputs": [
        {
          "output_type": "execute_result",
          "data": {
            "text/plain": [
              "array([ 1.        , -0.20046922,  0.40658343, -0.05589158,  0.42097173,\n",
              "       -0.2192467 ,  0.35273425, -0.37967009,  0.62550515,  0.58276431,\n",
              "        0.28994564, -0.38506395,  0.45562148, -0.38830461, -0.20046922,\n",
              "        1.        , -0.53382819, -0.04269672, -0.51660371,  0.31199059,\n",
              "       -0.56953734,  0.66440822, -0.31194783, -0.31456332, -0.39167853,\n",
              "        0.17552031, -0.41299458,  0.36044534,  0.40658343, -0.53382819,\n",
              "        1.        ,  0.06293803,  0.76365146, -0.39167586,  0.64477851,\n",
              "       -0.70802699,  0.5951293 ,  0.7207602 ,  0.38324764, -0.35697654,\n",
              "        0.60379972, -0.48372517, -0.05589158, -0.04269672,  0.06293803,\n",
              "        1.        ,  0.0912028 ,  0.09125123,  0.08651777, -0.09917578,\n",
              "       -0.00736824, -0.03558652, -0.12151517,  0.04878849, -0.0539293 ,\n",
              "        0.17526018,  0.42097173, -0.51660371,  0.76365146,  0.0912028 ,\n",
              "        1.        , -0.30218816,  0.73147011, -0.76923012,  0.61144056,\n",
              "        0.66802321,  0.18893272, -0.38005064,  0.59087892, -0.42732078,\n",
              "       -0.2192467 ,  0.31199059, -0.39167586,  0.09125123, -0.30218816,\n",
              "        1.        , -0.24026491,  0.2052462 , -0.20984667, -0.29204784,\n",
              "       -0.3555015 ,  0.12806863, -0.61380826,  0.69535994,  0.35273425,\n",
              "       -0.56953734,  0.64477851,  0.08651777,  0.73147011, -0.24026491,\n",
              "        1.        , -0.74788054,  0.45602245,  0.5064556 ,  0.26151502,\n",
              "       -0.27353397,  0.60233853, -0.37695457, -0.37967009,  0.66440822,\n",
              "       -0.70802699, -0.09917578, -0.76923012,  0.2052462 , -0.74788054,\n",
              "        1.        , -0.49458793, -0.53443158, -0.23247057,  0.29151167,\n",
              "       -0.49699583,  0.24992874,  0.62550515, -0.31194783,  0.5951293 ,\n",
              "       -0.00736824,  0.61144056, -0.20984667,  0.45602245, -0.49458793,\n",
              "        1.        ,  0.91022819,  0.46474127, -0.44441282,  0.48867634,\n",
              "       -0.38162623,  0.58276431, -0.31456332,  0.7207602 , -0.03558652,\n",
              "        0.66802321, -0.29204784,  0.5064556 , -0.53443158,  0.91022819,\n",
              "        1.        ,  0.46085312, -0.44180801,  0.54399341, -0.46853594,\n",
              "        0.28994564, -0.39167853,  0.38324764, -0.12151517,  0.18893272,\n",
              "       -0.3555015 ,  0.26151502, -0.23247057,  0.46474127,  0.46085312,\n",
              "        1.        , -0.17738334,  0.37404435, -0.5077867 , -0.38506395,\n",
              "        0.17552031, -0.35697654,  0.04878849, -0.38005064,  0.12806863,\n",
              "       -0.27353397,  0.29151167, -0.44441282, -0.44180801, -0.17738334,\n",
              "        1.        , -0.3660869 ,  0.33346082,  0.45562148, -0.41299458,\n",
              "        0.60379972, -0.0539293 ,  0.59087892, -0.61380826,  0.60233853,\n",
              "       -0.49699583,  0.48867634,  0.54399341,  0.37404435, -0.3660869 ,\n",
              "        1.        , -0.73766273, -0.38830461,  0.36044534, -0.48372517,\n",
              "        0.17526018, -0.42732078,  0.69535994, -0.37695457,  0.24992874,\n",
              "       -0.38162623, -0.46853594, -0.5077867 ,  0.33346082, -0.73766273,\n",
              "        1.        ])"
            ]
          },
          "metadata": {},
          "execution_count": 18
        }
      ]
    },
    {
      "cell_type": "code",
      "source": [
        "# Question 4"
      ],
      "metadata": {
        "id": "Cg2mSUwDhqJk"
      },
      "execution_count": 19,
      "outputs": []
    },
    {
      "cell_type": "code",
      "source": [
        "vectorAssembler = VectorAssembler(inputCols = ['CRIM', 'ZN', 'INDUS', 'CHAS', 'NOX', 'RM', 'AGE', 'DIS', 'RAD', 'TAX', 'PT', 'B', 'LSTAT'], outputCol = 'features')\n",
        "vhouse_df = vectorAssembler.transform(df)\n",
        "vhouse_df = vhouse_df.select(['features', 'MV'])\n",
        "vhouse_df.show(3)"
      ],
      "metadata": {
        "colab": {
          "base_uri": "https://localhost:8080/"
        },
        "id": "WQKjh9kchvVf",
        "outputId": "c34a9730-31ff-4686-8e59-77dc3373f365"
      },
      "execution_count": 20,
      "outputs": [
        {
          "output_type": "stream",
          "name": "stdout",
          "text": [
            "+--------------------+-----------+\n",
            "|            features|         MV|\n",
            "+--------------------+-----------+\n",
            "|[0.00632,18.0,2.3...|       24.0|\n",
            "|[0.027310001,0.0,...|21.60000038|\n",
            "|[0.02729,0.0,7.07...|34.70000076|\n",
            "+--------------------+-----------+\n",
            "only showing top 3 rows\n",
            "\n"
          ]
        }
      ]
    },
    {
      "cell_type": "code",
      "source": [
        "splits = vhouse_df.randomSplit([0.7, 0.3])\n",
        "train_df = splits[0]\n",
        "test_df = splits[1]"
      ],
      "metadata": {
        "id": "uUC5UOjnh3Py"
      },
      "execution_count": 21,
      "outputs": []
    },
    {
      "cell_type": "code",
      "source": [
        "lr = LinearRegression(featuresCol = 'features', labelCol='MV', maxIter=10, regParam=0.3, elasticNetParam=0.8)\n",
        "lr_model = lr.fit(train_df)\n",
        "print(\"Coefficients: \" + str(lr_model.coefficients))\n",
        "print(\"Intercept: \" + str(lr_model.intercept))"
      ],
      "metadata": {
        "colab": {
          "base_uri": "https://localhost:8080/"
        },
        "id": "LK7TuGGeh9Gz",
        "outputId": "0373a72c-70ef-45fa-bca8-da843e11628b"
      },
      "execution_count": 22,
      "outputs": [
        {
          "output_type": "stream",
          "name": "stdout",
          "text": [
            "Coefficients: [-0.048887329157300374,0.013568368027519023,-0.03692333637204433,1.1287989938379854,-4.35050047585973,4.929688582509553,0.0,-0.5014573794010677,0.0,0.0,-0.7071721579271399,0.010575795143024591,-0.41361996781650373]\n",
            "Intercept: 10.744106321066608\n"
          ]
        }
      ]
    },
    {
      "cell_type": "code",
      "source": [
        "# Question 5"
      ],
      "metadata": {
        "id": "3R5U65NXiFcO"
      },
      "execution_count": 23,
      "outputs": []
    },
    {
      "cell_type": "code",
      "source": [
        "trainingSummary = lr_model.summary\n",
        "print(\"RMSE: %f\" % trainingSummary.rootMeanSquaredError)\n",
        "print(\"r2: %f\" % trainingSummary.r2)"
      ],
      "metadata": {
        "colab": {
          "base_uri": "https://localhost:8080/"
        },
        "id": "MbJWgwqiiKQm",
        "outputId": "60632514-179f-46d8-bc00-c1efd2c52f49"
      },
      "execution_count": 24,
      "outputs": [
        {
          "output_type": "stream",
          "name": "stdout",
          "text": [
            "RMSE: 4.821918\n",
            "r2: 0.720490\n"
          ]
        }
      ]
    },
    {
      "cell_type": "code",
      "source": [
        "lr_predictions = lr_model.transform(test_df)\n",
        "lr_predictions.select(\"prediction\",\"MV\",\"features\").show(5)\n",
        "lr_evaluator = RegressionEvaluator(predictionCol=\"prediction\", \\\n",
        "                 labelCol=\"MV\",metricName=\"r2\")\n",
        "print(\"R2 on test = %g\" % lr_evaluator.evaluate(lr_predictions))"
      ],
      "metadata": {
        "colab": {
          "base_uri": "https://localhost:8080/"
        },
        "id": "vVYU9_oziPMo",
        "outputId": "78427ccf-b1fc-4493-ab88-1cb0353e6554"
      },
      "execution_count": 26,
      "outputs": [
        {
          "output_type": "stream",
          "name": "stdout",
          "text": [
            "+------------------+-----------+--------------------+\n",
            "|        prediction|         MV|            features|\n",
            "+------------------+-----------+--------------------+\n",
            "| 30.24187802839799|       24.0|[0.00632,18.0,2.3...|\n",
            "| 38.72243625700208|       50.0|[0.01381,80.0,0.4...|\n",
            "|30.281929031173902|29.10000038|[0.01439,60.0,2.9...|\n",
            "| 28.02147409317832|       24.5|[0.01501,80.0,2.0...|\n",
            "|31.761920850284916|32.90000153|[0.01778,95.0,1.4...|\n",
            "+------------------+-----------+--------------------+\n",
            "only showing top 5 rows\n",
            "\n",
            "R2 on test = 0.67806\n"
          ]
        }
      ]
    },
    {
      "cell_type": "code",
      "source": [
        "test_result = lr_model.evaluate(test_df)\n",
        "print(\"RMSE on test = %g\" % test_result.rootMeanSquaredError)"
      ],
      "metadata": {
        "colab": {
          "base_uri": "https://localhost:8080/"
        },
        "id": "jePJSlVuiSq4",
        "outputId": "b0afd70a-74d8-46b6-9ec9-7a5ccd5a4d19"
      },
      "execution_count": 27,
      "outputs": [
        {
          "output_type": "stream",
          "name": "stdout",
          "text": [
            "RMSE on test = 5.2852\n"
          ]
        }
      ]
    },
    {
      "cell_type": "code",
      "source": [
        "print(\"numIterations: %d\" % trainingSummary.totalIterations)\n",
        "print(\"objectiveHistory: %s\" % str(trainingSummary.objectiveHistory))\n",
        "trainingSummary.residuals.show()"
      ],
      "metadata": {
        "colab": {
          "base_uri": "https://localhost:8080/"
        },
        "id": "YLqqj_ITigIV",
        "outputId": "8023eb57-42f2-4c67-c1bd-ff88f25494b6"
      },
      "execution_count": 28,
      "outputs": [
        {
          "output_type": "stream",
          "name": "stdout",
          "text": [
            "numIterations: 10\n",
            "objectiveHistory: [0.49999999999999956, 0.42968990498784077, 0.23034998081952984, 0.2087219612015162, 0.17882951926142848, 0.17611146610643663, 0.17565894983955913, 0.17530181802341435, 0.17525166046150956, 0.17517175911206084, 0.1750666017370606]\n",
            "+--------------------+\n",
            "|           residuals|\n",
            "+--------------------+\n",
            "|  0.6998875130860682|\n",
            "| -5.8120413540149585|\n",
            "|  0.3512659643844316|\n",
            "|   4.319961371615278|\n",
            "|  0.5602154968559141|\n",
            "| 0.06719563569807363|\n",
            "|   9.330700480451434|\n",
            "|   8.763980036692516|\n",
            "|  2.7250905514284263|\n",
            "|  -3.479921811968211|\n",
            "|   5.809199425019337|\n",
            "|   10.29469696491305|\n",
            "| -1.8212636156465898|\n",
            "|-0.05522772956271993|\n",
            "| -10.319407970921965|\n",
            "|   3.429701147118301|\n",
            "|  1.7516669001829683|\n",
            "|  -1.081049908233112|\n",
            "| -0.3266110978117531|\n",
            "|  2.5833616680264733|\n",
            "+--------------------+\n",
            "only showing top 20 rows\n",
            "\n"
          ]
        }
      ]
    },
    {
      "cell_type": "code",
      "source": [
        "predictions = lr_model.transform(test_df)\n",
        "predictions.select(\"prediction\",\"MV\",\"features\").show()"
      ],
      "metadata": {
        "colab": {
          "base_uri": "https://localhost:8080/"
        },
        "id": "alzwUTWvipXZ",
        "outputId": "b8369bad-902f-49ef-fec6-7d84dc802ce4"
      },
      "execution_count": 29,
      "outputs": [
        {
          "output_type": "stream",
          "name": "stdout",
          "text": [
            "+------------------+-----------+--------------------+\n",
            "|        prediction|         MV|            features|\n",
            "+------------------+-----------+--------------------+\n",
            "| 30.24187802839799|       24.0|[0.00632,18.0,2.3...|\n",
            "| 38.72243625700208|       50.0|[0.01381,80.0,0.4...|\n",
            "|30.281929031173902|29.10000038|[0.01439,60.0,2.9...|\n",
            "| 28.02147409317832|       24.5|[0.01501,80.0,2.0...|\n",
            "|31.761920850284916|32.90000153|[0.01778,95.0,1.4...|\n",
            "|21.636852517324968|20.10000038|[0.019649999,80.0...|\n",
            "| 36.85248267772286|42.29999924|[0.02177,82.5,2.0...|\n",
            "|28.160213798943282|23.89999962|[0.025429999,55.0...|\n",
            "|25.433462331641557|21.60000038|[0.027310001,0.0,...|\n",
            "| 29.63829347977137|31.20000076|[0.03049,55.0,3.7...|\n",
            "|20.714433214079538|       17.5|[0.031129999,0.0,...|\n",
            "| 24.13061800160149|19.39999962|[0.03466,35.0,6.0...|\n",
            "|30.356296671413318|       28.5|[0.035020001,80.0...|\n",
            "|25.389178805295188|24.79999924|[0.036589999,25.0...|\n",
            "| 23.21926321390626|20.70000076|[0.037379999,0.0,...|\n",
            "|24.487581832519773|20.60000038|[0.042939998,28.0...|\n",
            "|23.760820143509836|19.39999962|[0.043790001,80.0...|\n",
            "| 26.73125595942995|23.89999962|[0.04462,25.0,4.8...|\n",
            "|24.150575984557655|19.79999924|[0.04544,0.0,3.24...|\n",
            "|23.398999780272675|23.29999924|[0.045600001,0.0,...|\n",
            "+------------------+-----------+--------------------+\n",
            "only showing top 20 rows\n",
            "\n"
          ]
        }
      ]
    },
    {
      "cell_type": "code",
      "source": [
        ""
      ],
      "metadata": {
        "id": "qIh_uuWiitlv"
      },
      "execution_count": null,
      "outputs": []
    }
  ]
}