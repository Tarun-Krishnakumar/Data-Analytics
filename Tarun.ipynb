{
 "cells": [
  {
   "cell_type": "markdown",
   "id": "183460d3",
   "metadata": {},
   "source": [
    "## Portugal bank marketing "
   ]
  },
  {
   "cell_type": "markdown",
   "id": "04e373ec",
   "metadata": {},
   "source": [
    "### importing libraries"
   ]
  },
  {
   "cell_type": "code",
   "execution_count": 1,
   "id": "14462af8",
   "metadata": {},
   "outputs": [],
   "source": [
    "import pandas as pd\n",
    "import numpy as np\n",
    "import matplotlib.pyplot as plt\n",
    "import seaborn as sns\n",
    "from sklearn.model_selection import train_test_split\n",
    "from sklearn.ensemble import RandomForestClassifier\n",
    "from sklearn.linear_model import LogisticRegression\n",
    "from sklearn.svm import SVC\n",
    "from sklearn.neighbors import KNeighborsClassifier\n",
    "from sklearn.naive_bayes import GaussianNB\n",
    "from sklearn.ensemble import AdaBoostClassifier\n",
    "from sklearn.preprocessing import StandardScaler\n",
    "from sklearn.preprocessing import LabelEncoder\n",
    "from sklearn.feature_selection import SelectFromModel\n",
    "from imblearn.over_sampling import SMOTE\n",
    "from warnings import filterwarnings\n",
    "filterwarnings('ignore')"
   ]
  },
  {
   "cell_type": "markdown",
   "id": "e402675c",
   "metadata": {},
   "source": [
    "### Creating a dataframe and a copy to work on"
   ]
  },
  {
   "cell_type": "code",
   "execution_count": 2,
   "id": "14d0efdc",
   "metadata": {},
   "outputs": [],
   "source": [
    "portugalbank=pd.read_csv('bank.csv',delimiter=';')"
   ]
  },
  {
   "cell_type": "markdown",
   "id": "72a29412",
   "metadata": {},
   "source": [
    "### Missing Value Analysis"
   ]
  },
  {
   "cell_type": "code",
   "execution_count": 3,
   "id": "5ea67df1",
   "metadata": {},
   "outputs": [
    {
     "data": {
      "text/plain": [
       "age               0\n",
       "job               0\n",
       "marital           0\n",
       "education         0\n",
       "default           0\n",
       "housing           0\n",
       "loan              0\n",
       "contact           0\n",
       "month             0\n",
       "day_of_week       0\n",
       "duration          0\n",
       "campaign          0\n",
       "pdays             0\n",
       "previous          0\n",
       "poutcome          0\n",
       "emp.var.rate      0\n",
       "cons.price.idx    0\n",
       "cons.conf.idx     0\n",
       "euribor3m         0\n",
       "nr.employed       0\n",
       "y                 0\n",
       "dtype: int64"
      ]
     },
     "execution_count": 3,
     "metadata": {},
     "output_type": "execute_result"
    }
   ],
   "source": [
    "portugalbank.isnull().sum()"
   ]
  },
  {
   "cell_type": "markdown",
   "id": "9d8a2e8f",
   "metadata": {},
   "source": [
    "No missing values"
   ]
  },
  {
   "cell_type": "markdown",
   "id": "a6a18409",
   "metadata": {},
   "source": [
    "### Encoding and Standardization "
   ]
  },
  {
   "cell_type": "code",
   "execution_count": 4,
   "id": "5af5d82a",
   "metadata": {},
   "outputs": [],
   "source": [
    "categorical=portugalbank.select_dtypes(include='object')\n",
    "categorical_cols=list(categorical.columns)\n",
    "numerical=portugalbank.select_dtypes(exclude='object')\n",
    "numerical_cols=list(numerical.columns)"
   ]
  },
  {
   "cell_type": "markdown",
   "id": "17850992",
   "metadata": {},
   "source": [
    "### Standardization"
   ]
  },
  {
   "cell_type": "code",
   "execution_count": 5,
   "id": "b62d3677",
   "metadata": {},
   "outputs": [],
   "source": [
    "ss=StandardScaler()"
   ]
  },
  {
   "cell_type": "code",
   "execution_count": 6,
   "id": "d72e307b",
   "metadata": {},
   "outputs": [],
   "source": [
    "numerical=ss.fit_transform(numerical)\n",
    "numerical=pd.DataFrame(numerical,columns=numerical_cols)"
   ]
  },
  {
   "cell_type": "markdown",
   "id": "adb11632",
   "metadata": {},
   "source": [
    "###  Label Encoding"
   ]
  },
  {
   "cell_type": "code",
   "execution_count": 7,
   "id": "1569ae0e",
   "metadata": {},
   "outputs": [],
   "source": [
    "le = LabelEncoder()"
   ]
  },
  {
   "cell_type": "code",
   "execution_count": 8,
   "id": "cb1886a1",
   "metadata": {},
   "outputs": [],
   "source": [
    "for i in categorical_cols:\n",
    "#     if i=='y':\n",
    "#         continue\n",
    "    categorical[i]=le.fit_transform(categorical[i])"
   ]
  },
  {
   "cell_type": "markdown",
   "id": "cc6ad068",
   "metadata": {},
   "source": [
    "### Combining the numerical and categorical "
   ]
  },
  {
   "cell_type": "code",
   "execution_count": 9,
   "id": "2547fe25",
   "metadata": {},
   "outputs": [],
   "source": [
    "final=pd.concat([categorical,numerical],axis=1)"
   ]
  },
  {
   "cell_type": "code",
   "execution_count": 10,
   "id": "43359139",
   "metadata": {},
   "outputs": [
    {
     "data": {
      "text/plain": [
       "Index(['job', 'marital', 'education', 'default', 'housing', 'loan', 'contact',\n",
       "       'month', 'day_of_week', 'poutcome', 'y', 'age', 'duration', 'campaign',\n",
       "       'pdays', 'previous', 'emp.var.rate', 'cons.price.idx', 'cons.conf.idx',\n",
       "       'euribor3m', 'nr.employed'],\n",
       "      dtype='object')"
      ]
     },
     "execution_count": 10,
     "metadata": {},
     "output_type": "execute_result"
    }
   ],
   "source": [
    "final.columns"
   ]
  },
  {
   "cell_type": "markdown",
   "id": "8ee91986",
   "metadata": {},
   "source": [
    "### Train Test Split"
   ]
  },
  {
   "cell_type": "code",
   "execution_count": 11,
   "id": "a97a51ba",
   "metadata": {},
   "outputs": [],
   "source": [
    "x=final.drop(['y'],axis=1)\n",
    "y=final.y\n",
    "X_train,X_test,y_train,y_test=train_test_split(x,y,test_size=0.3)"
   ]
  },
  {
   "cell_type": "markdown",
   "id": "69ce4506",
   "metadata": {},
   "source": [
    "### Selecting Features using Random Forests"
   ]
  },
  {
   "cell_type": "code",
   "execution_count": 12,
   "id": "e8212032",
   "metadata": {},
   "outputs": [
    {
     "name": "stdout",
     "output_type": "stream",
     "text": [
      "Index(['age', 'duration', 'euribor3m', 'nr.employed'], dtype='object')\n"
     ]
    }
   ],
   "source": [
    "sel = SelectFromModel(RandomForestClassifier())\n",
    "sel.fit(X_train, y_train)\n",
    "selected_feat= X_train.columns[(sel.get_support())]\n",
    "print(selected_feat)"
   ]
  },
  {
   "cell_type": "markdown",
   "id": "6c9ceb17",
   "metadata": {},
   "source": [
    "We can see that the important features are printed above using RandomForest Selection"
   ]
  },
  {
   "cell_type": "markdown",
   "id": "23c9e839",
   "metadata": {},
   "source": [
    "### Defining a function that takes in a Model and gives out Accuracy"
   ]
  },
  {
   "cell_type": "code",
   "execution_count": 15,
   "id": "3f892bcf",
   "metadata": {},
   "outputs": [],
   "source": [
    "def getscore(model):\n",
    "    model.fit(X_train,y_train)\n",
    "    Score=model.score(X_test,y_test)\n",
    "    print('Accuracy : ',Score)"
   ]
  },
  {
   "cell_type": "markdown",
   "id": "6ab6254c",
   "metadata": {},
   "source": [
    "### Logistic Regression"
   ]
  },
  {
   "cell_type": "code",
   "execution_count": 16,
   "id": "1ab28bb8",
   "metadata": {},
   "outputs": [
    {
     "name": "stdout",
     "output_type": "stream",
     "text": [
      "Accuracy :  0.9168892125920531\n"
     ]
    }
   ],
   "source": [
    "getscore(LogisticRegression())"
   ]
  },
  {
   "cell_type": "markdown",
   "id": "16cfa675",
   "metadata": {},
   "source": [
    "### AdaBoost"
   ]
  },
  {
   "cell_type": "code",
   "execution_count": 17,
   "id": "293cfb13",
   "metadata": {},
   "outputs": [
    {
     "name": "stdout",
     "output_type": "stream",
     "text": [
      "Accuracy :  0.9128429230395727\n"
     ]
    }
   ],
   "source": [
    "getscore(AdaBoostClassifier())"
   ]
  },
  {
   "cell_type": "markdown",
   "id": "2352f86a",
   "metadata": {},
   "source": [
    "### Naive Bayes"
   ]
  },
  {
   "cell_type": "code",
   "execution_count": 18,
   "id": "41b8a08a",
   "metadata": {},
   "outputs": [
    {
     "name": "stdout",
     "output_type": "stream",
     "text": [
      "Accuracy :  0.8526341344986648\n"
     ]
    }
   ],
   "source": [
    "getscore(GaussianNB())"
   ]
  },
  {
   "cell_type": "markdown",
   "id": "5ef2ec2b",
   "metadata": {},
   "source": [
    "### KNN"
   ]
  },
  {
   "cell_type": "code",
   "execution_count": 19,
   "id": "eda3c08b",
   "metadata": {},
   "outputs": [
    {
     "name": "stdout",
     "output_type": "stream",
     "text": [
      "Accuracy :  0.9039410860241159\n"
     ]
    }
   ],
   "source": [
    "getscore(KNeighborsClassifier())"
   ]
  },
  {
   "cell_type": "markdown",
   "id": "17a466a4",
   "metadata": {},
   "source": [
    "### SVC"
   ]
  },
  {
   "cell_type": "code",
   "execution_count": 20,
   "id": "557d3870",
   "metadata": {},
   "outputs": [
    {
     "name": "stdout",
     "output_type": "stream",
     "text": [
      "Accuracy :  0.9117908877559278\n"
     ]
    }
   ],
   "source": [
    "getscore(SVC())"
   ]
  },
  {
   "cell_type": "code",
   "execution_count": null,
   "id": "67ee653d",
   "metadata": {},
   "outputs": [],
   "source": []
  }
 ],
 "metadata": {
  "kernelspec": {
   "display_name": "Python 3 (ipykernel)",
   "language": "python",
   "name": "python3"
  },
  "language_info": {
   "codemirror_mode": {
    "name": "ipython",
    "version": 3
   },
   "file_extension": ".py",
   "mimetype": "text/x-python",
   "name": "python",
   "nbconvert_exporter": "python",
   "pygments_lexer": "ipython3",
   "version": "3.9.12"
  }
 },
 "nbformat": 4,
 "nbformat_minor": 5
}
